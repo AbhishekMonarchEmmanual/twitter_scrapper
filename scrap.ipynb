{
 "cells": [
  {
   "cell_type": "code",
   "execution_count": null,
   "metadata": {},
   "outputs": [],
   "source": [
    "import undetected_chromedriver as webdriver\n",
    "from selenium.webdriver.common.by import By\n",
    "from selenium.common.exceptions import NoSuchElementException,TimeoutException,StaleElementReferenceException\n",
    "from selenium.webdriver.support import expected_conditions as EC\n",
    "from selenium.webdriver.support.ui import WebDriverWait\n",
    "import pandas as pd \n",
    "import keyboard\n",
    "import time\n",
    "\n",
    "\n",
    "options = webdriver.ChromeOptions()\n",
    "profile = r\"C:\\Users\\asus\\AppData\\Local\\Google\\Chrome\\User Data\\Default\"\n",
    "\n",
    "# Add arguments to ChromeOptions\n",
    "options.add_argument(f\"--user-data-dir={profile}\") \n"
   ]
  },
  {
   "cell_type": "code",
   "execution_count": null,
   "metadata": {},
   "outputs": [],
   "source": [
    "driver = webdriver.Chrome(options=options)\n",
    "#driver.get(\"https://twitter.com/BhajanlalBjp\")\n",
    "driver.get(\"https://twitter.com/KumariDiya\")\n",
    "time.sleep(8)\n",
    "\n"
   ]
  },
  {
   "cell_type": "code",
   "execution_count": null,
   "metadata": {},
   "outputs": [],
   "source": [
    "current_scroll_distance = 0\n",
    "wait_time = 3\n",
    "no_of_tweets = 20\n",
    "wait = WebDriverWait(driver, wait_time)\n",
    "tweet_set = set()\n",
    "def convert_views(view):\n",
    "    if any(suffix in view for suffix in ['K', 'k', 'M', 'm', 'B', 'b']):\n",
    "        k = view.replace('K', '/n1000').replace('k', '/n1000').replace('M', '/n1000000').replace('m', '/n1000000').replace('B', '/n1000000000').replace('b', '/n1000000000')\n",
    "        fd = float(k.split('/n')[0])\n",
    "        m = int(k.split('/n')[1])\n",
    "        value = float(fd * m)\n",
    "    else:\n",
    "        value = int(view)\n",
    "    return value"
   ]
  },
  {
   "cell_type": "code",
   "execution_count": null,
   "metadata": {},
   "outputs": [],
   "source": [
    "while len(tweet_set)<no_of_tweets:\n",
    "    try:\n",
    "        driver.execute_script(\"window.scrollBy(0, arguments[0]);\", 500)  # Scroll by 200 pixels\n",
    "        current_scroll_distance += 500\n",
    "        time.sleep(8)\n",
    "        \n",
    "        if keyboard.is_pressed('q'):\n",
    "            break\n",
    "\n",
    "        info = wait.until(EC.presence_of_all_elements_located((By.XPATH, \"//div[@class='css-175oi2r']/article[@data-testid='tweet']\")))\n",
    "        print(f'tweet_set_len{len(tweet_set)}')\n",
    "        for post_box in info:\n",
    "            try:\n",
    "                post = post_box.find_element(By.XPATH, \".//div[@data-testid='tweetText']/span[1]\").text\n",
    "            except NoSuchElementException:\n",
    "                post = 'No post found'\n",
    "\n",
    "            try:\n",
    "                comment = post_box.find_element(By.XPATH, \".//div[@role='group']\").text\n",
    "            except NoSuchElementException:\n",
    "                comment = 'No comment found'\n",
    "\n",
    "            try:\n",
    "                dateS = post_box.find_element(By.XPATH, \".//a/time\").get_attribute(\"datetime\")\n",
    "            except NoSuchElementException:\n",
    "                dateS = 'No date found'\n",
    "\n",
    "            tweet_set.add((post, dateS, comment))\n",
    "\n",
    "\n",
    "    except Exception as e:\n",
    "        print(\"An error occurred:\", str(e))\n",
    "\n",
    "unique_tweets = list(tweet_set)\n",
    "\n",
    "# Create DataFrame\n",
    "df = pd.DataFrame(unique_tweets, columns=['Post', 'Date', 'Comment'])\n",
    "df['Date'] = pd.to_datetime(df['Date'])\n",
    "df[['reply', 'reposts', 'likes', 'views']] = df['Comment'].str.split('\\n', expand=True)\n",
    "df['views'] = df['views'].apply(convert_views)\n",
    "df['reposts'] = df['reposts'].apply(convert_views)\n",
    "df['reply'] = df['reply'].apply(convert_views)\n",
    "df['likes'] = df['likes'].apply(convert_views)\n",
    "df['Date'] = df['Date'].dt.tz_localize(None)\n",
    "df.drop(columns=['Comment'], inplace=True)\n",
    "df.to_excel(f\"diya_kumari_tweets_{no_of_tweets}.xlsx\")"
   ]
  },
  {
   "cell_type": "markdown",
   "metadata": {},
   "source": [
    "JUST FOR DATAFRAME TEST IS BELOW"
   ]
  },
  {
   "cell_type": "code",
   "execution_count": null,
   "metadata": {},
   "outputs": [],
   "source": [
    "unique_tweets = list(tweet_set)\n",
    "df = pd.DataFrame(unique_tweets, columns=['Post', 'Date', 'Comment'])\n",
    "df['Date'] = pd.to_datetime(df['Date'])\n",
    "df['Date'] = df['Date'].dt.tz_localize(None)\n",
    "df[['reply', 'reposts', 'likes', 'views']] = df['Comment'].str.split('\\n', expand=True)\n"
   ]
  }
 ],
 "metadata": {
  "kernelspec": {
   "display_name": "base",
   "language": "python",
   "name": "python3"
  },
  "language_info": {
   "codemirror_mode": {
    "name": "ipython",
    "version": 3
   },
   "file_extension": ".py",
   "mimetype": "text/x-python",
   "name": "python",
   "nbconvert_exporter": "python",
   "pygments_lexer": "ipython3",
   "version": "3.11.5"
  }
 },
 "nbformat": 4,
 "nbformat_minor": 2
}
